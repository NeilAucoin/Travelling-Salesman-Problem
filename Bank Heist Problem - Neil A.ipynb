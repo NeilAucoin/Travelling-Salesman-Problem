{
 "cells": [
  {
   "cell_type": "markdown",
   "id": "0dc4d7ba",
   "metadata": {},
   "source": [
    "# Bank Heist Problem - Neil A"
   ]
  },
  {
   "cell_type": "markdown",
   "id": "9cd5334f",
   "metadata": {},
   "source": [
    "Imports"
   ]
  },
  {
   "cell_type": "code",
   "execution_count": 1,
   "id": "59fc734d",
   "metadata": {},
   "outputs": [],
   "source": [
    "import numpy as np\n",
    "import pandas as pd\n",
    "import time\n",
    "import math"
   ]
  },
  {
   "cell_type": "markdown",
   "id": "56317788",
   "metadata": {},
   "source": [
    "Load data"
   ]
  },
  {
   "cell_type": "code",
   "execution_count": 39,
   "id": "4a308a28",
   "metadata": {},
   "outputs": [],
   "source": [
    "df = pd.read_csv(r\"C:\\Users\\neila\\Desktop\\Data Science\\ds-algorithm-project-1-main\\data\\bank_data.csv\")"
   ]
  },
  {
   "cell_type": "markdown",
   "id": "68db7233",
   "metadata": {},
   "source": [
    "Data Exploration"
   ]
  },
  {
   "cell_type": "code",
   "execution_count": 56,
   "id": "e6f8a320",
   "metadata": {},
   "outputs": [
    {
     "data": {
      "text/html": [
       "<div>\n",
       "<style scoped>\n",
       "    .dataframe tbody tr th:only-of-type {\n",
       "        vertical-align: middle;\n",
       "    }\n",
       "\n",
       "    .dataframe tbody tr th {\n",
       "        vertical-align: top;\n",
       "    }\n",
       "\n",
       "    .dataframe thead th {\n",
       "        text-align: right;\n",
       "    }\n",
       "</style>\n",
       "<table border=\"1\" class=\"dataframe\">\n",
       "  <thead>\n",
       "    <tr style=\"text-align: right;\">\n",
       "      <th></th>\n",
       "      <th>id</th>\n",
       "      <th>x_coordinate</th>\n",
       "      <th>y_coordinate</th>\n",
       "      <th>money</th>\n",
       "      <th>time (hr)</th>\n",
       "    </tr>\n",
       "  </thead>\n",
       "  <tbody>\n",
       "    <tr>\n",
       "      <th>count</th>\n",
       "      <td>10000.00000</td>\n",
       "      <td>10000.000000</td>\n",
       "      <td>10000.000000</td>\n",
       "      <td>10000.000000</td>\n",
       "      <td>10000.000000</td>\n",
       "    </tr>\n",
       "    <tr>\n",
       "      <th>mean</th>\n",
       "      <td>4999.50000</td>\n",
       "      <td>-0.016431</td>\n",
       "      <td>0.037561</td>\n",
       "      <td>18430.320000</td>\n",
       "      <td>0.750245</td>\n",
       "    </tr>\n",
       "    <tr>\n",
       "      <th>std</th>\n",
       "      <td>2886.89568</td>\n",
       "      <td>2.889568</td>\n",
       "      <td>2.881789</td>\n",
       "      <td>25382.131155</td>\n",
       "      <td>0.433541</td>\n",
       "    </tr>\n",
       "    <tr>\n",
       "      <th>min</th>\n",
       "      <td>0.00000</td>\n",
       "      <td>-4.999292</td>\n",
       "      <td>-4.999928</td>\n",
       "      <td>100.000000</td>\n",
       "      <td>0.000032</td>\n",
       "    </tr>\n",
       "    <tr>\n",
       "      <th>25%</th>\n",
       "      <td>2499.75000</td>\n",
       "      <td>-2.513854</td>\n",
       "      <td>-2.415033</td>\n",
       "      <td>900.000000</td>\n",
       "      <td>0.373141</td>\n",
       "    </tr>\n",
       "    <tr>\n",
       "      <th>50%</th>\n",
       "      <td>4999.50000</td>\n",
       "      <td>-0.024904</td>\n",
       "      <td>0.010442</td>\n",
       "      <td>5800.000000</td>\n",
       "      <td>0.749218</td>\n",
       "    </tr>\n",
       "    <tr>\n",
       "      <th>75%</th>\n",
       "      <td>7499.25000</td>\n",
       "      <td>2.461754</td>\n",
       "      <td>2.540303</td>\n",
       "      <td>26900.000000</td>\n",
       "      <td>1.122812</td>\n",
       "    </tr>\n",
       "    <tr>\n",
       "      <th>max</th>\n",
       "      <td>9999.00000</td>\n",
       "      <td>4.999851</td>\n",
       "      <td>4.999626</td>\n",
       "      <td>102300.000000</td>\n",
       "      <td>1.499851</td>\n",
       "    </tr>\n",
       "  </tbody>\n",
       "</table>\n",
       "</div>"
      ],
      "text/plain": [
       "                id  x_coordinate  y_coordinate          money     time (hr)\n",
       "count  10000.00000  10000.000000  10000.000000   10000.000000  10000.000000\n",
       "mean    4999.50000     -0.016431      0.037561   18430.320000      0.750245\n",
       "std     2886.89568      2.889568      2.881789   25382.131155      0.433541\n",
       "min        0.00000     -4.999292     -4.999928     100.000000      0.000032\n",
       "25%     2499.75000     -2.513854     -2.415033     900.000000      0.373141\n",
       "50%     4999.50000     -0.024904      0.010442    5800.000000      0.749218\n",
       "75%     7499.25000      2.461754      2.540303   26900.000000      1.122812\n",
       "max     9999.00000      4.999851      4.999626  102300.000000      1.499851"
      ]
     },
     "execution_count": 56,
     "metadata": {},
     "output_type": "execute_result"
    }
   ],
   "source": [
    "df.describe()"
   ]
  },
  {
   "cell_type": "code",
   "execution_count": 57,
   "id": "231cb8c9",
   "metadata": {},
   "outputs": [
    {
     "data": {
      "text/html": [
       "<div>\n",
       "<style scoped>\n",
       "    .dataframe tbody tr th:only-of-type {\n",
       "        vertical-align: middle;\n",
       "    }\n",
       "\n",
       "    .dataframe tbody tr th {\n",
       "        vertical-align: top;\n",
       "    }\n",
       "\n",
       "    .dataframe thead th {\n",
       "        text-align: right;\n",
       "    }\n",
       "</style>\n",
       "<table border=\"1\" class=\"dataframe\">\n",
       "  <thead>\n",
       "    <tr style=\"text-align: right;\">\n",
       "      <th></th>\n",
       "      <th>id</th>\n",
       "      <th>x_coordinate</th>\n",
       "      <th>y_coordinate</th>\n",
       "      <th>money</th>\n",
       "      <th>time (hr)</th>\n",
       "    </tr>\n",
       "  </thead>\n",
       "  <tbody>\n",
       "    <tr>\n",
       "      <th>0</th>\n",
       "      <td>0</td>\n",
       "      <td>2.851925</td>\n",
       "      <td>1.201712</td>\n",
       "      <td>29700</td>\n",
       "      <td>0.273403</td>\n",
       "    </tr>\n",
       "    <tr>\n",
       "      <th>1</th>\n",
       "      <td>1</td>\n",
       "      <td>4.150372</td>\n",
       "      <td>-2.654334</td>\n",
       "      <td>6500</td>\n",
       "      <td>0.064040</td>\n",
       "    </tr>\n",
       "    <tr>\n",
       "      <th>2</th>\n",
       "      <td>2</td>\n",
       "      <td>-1.494092</td>\n",
       "      <td>-1.230419</td>\n",
       "      <td>89400</td>\n",
       "      <td>0.127458</td>\n",
       "    </tr>\n",
       "    <tr>\n",
       "      <th>3</th>\n",
       "      <td>3</td>\n",
       "      <td>1.271326</td>\n",
       "      <td>-0.088520</td>\n",
       "      <td>96100</td>\n",
       "      <td>1.315029</td>\n",
       "    </tr>\n",
       "    <tr>\n",
       "      <th>4</th>\n",
       "      <td>4</td>\n",
       "      <td>2.471113</td>\n",
       "      <td>-0.592810</td>\n",
       "      <td>41100</td>\n",
       "      <td>0.164393</td>\n",
       "    </tr>\n",
       "    <tr>\n",
       "      <th>5</th>\n",
       "      <td>5</td>\n",
       "      <td>-3.169726</td>\n",
       "      <td>-1.965427</td>\n",
       "      <td>36300</td>\n",
       "      <td>1.469407</td>\n",
       "    </tr>\n",
       "    <tr>\n",
       "      <th>6</th>\n",
       "      <td>6</td>\n",
       "      <td>1.937701</td>\n",
       "      <td>-4.451860</td>\n",
       "      <td>100</td>\n",
       "      <td>1.303451</td>\n",
       "    </tr>\n",
       "    <tr>\n",
       "      <th>7</th>\n",
       "      <td>7</td>\n",
       "      <td>4.799624</td>\n",
       "      <td>-2.330932</td>\n",
       "      <td>6200</td>\n",
       "      <td>1.421906</td>\n",
       "    </tr>\n",
       "    <tr>\n",
       "      <th>8</th>\n",
       "      <td>8</td>\n",
       "      <td>1.747491</td>\n",
       "      <td>-1.791918</td>\n",
       "      <td>200</td>\n",
       "      <td>1.129879</td>\n",
       "    </tr>\n",
       "    <tr>\n",
       "      <th>9</th>\n",
       "      <td>9</td>\n",
       "      <td>-1.188827</td>\n",
       "      <td>1.067312</td>\n",
       "      <td>1500</td>\n",
       "      <td>1.014085</td>\n",
       "    </tr>\n",
       "  </tbody>\n",
       "</table>\n",
       "</div>"
      ],
      "text/plain": [
       "   id  x_coordinate  y_coordinate  money  time (hr)\n",
       "0   0      2.851925      1.201712  29700   0.273403\n",
       "1   1      4.150372     -2.654334   6500   0.064040\n",
       "2   2     -1.494092     -1.230419  89400   0.127458\n",
       "3   3      1.271326     -0.088520  96100   1.315029\n",
       "4   4      2.471113     -0.592810  41100   0.164393\n",
       "5   5     -3.169726     -1.965427  36300   1.469407\n",
       "6   6      1.937701     -4.451860    100   1.303451\n",
       "7   7      4.799624     -2.330932   6200   1.421906\n",
       "8   8      1.747491     -1.791918    200   1.129879\n",
       "9   9     -1.188827      1.067312   1500   1.014085"
      ]
     },
     "execution_count": 57,
     "metadata": {},
     "output_type": "execute_result"
    }
   ],
   "source": [
    "df.head(10)"
   ]
  },
  {
   "cell_type": "markdown",
   "id": "3ba2022c",
   "metadata": {},
   "source": [
    "Solution"
   ]
  },
  {
   "cell_type": "code",
   "execution_count": 63,
   "id": "19391548",
   "metadata": {
    "scrolled": false
   },
   "outputs": [
    {
     "name": "stdout",
     "output_type": "stream",
     "text": [
      "Banks to Rob: [4601, 3237, 2270, 3773, 5182, 2334, 2444, 8887, 1723, 5892, 5200, 2590, 5836, 5572, 4794, 3665, 4629, 6266, 5327, 1081, 2463, 6295, 5440, 8477, 9804, 5631, 5377, 5399, 1879, 8841, 1398, 5184, 4345, 9120, 757, 1860, 2344, 3025, 4293, 1844, 839, 4422, 3340, 3971, 1966, 359, 754, 6375, 7907, 670, 9469, 9275, 5381, 7769, 7625, 8909, 1397, 6156, 5126, 6987, 2458, 6478, 9290, 9928, 7649, 8169, 6281, 3136, 1599, 1193, 8849, 9908, 2729, 7764, 7701, 4036, 8503, 2827, 8407, 3919, 1997, 7531, 5356, 1447, 2028, 4362, 8829, 5474, 2643, 2521, 3239, 1676, 4742, 4983, 8288, 1976, 2243, 9779, 8125, 279, 6169, 2162, 8949, 6339, 3585, 4494, 5944, 2472, 70, 790, 1684, 6934, 488, 2226, 9880, 5563, 2639, 7494, 5971, 1455, 3605, 8375, 5719, 613, 6759, 781, 4234, 3186, 6216, 4757, 4605, 7877, 7689, 8355, 1757, 8908, 7265, 5622, 6317, 4610, 5627, 7801, 2, 58, 1372, 951, 9881, 7595, 7772, 507, 5298, 6022, 2626, 9640, 8846, 8231, 5166, 7665, 3089, 4807, 9228, 524, 9583, 3005, 7583, 444, 865, 3466, 3803, 8022, 6712, 2037, 1914, 5295, 7343, 8703, 299, 4762, 6468, 3193, 8525, 7560, 5933, 487, 2331, 4499, 8690, 6528, 4287, 9653, 6104, 5562, 3516, 4906, 7087, 517, 7074, 7258, 6740, 3026, 4696, 4789, 8436, 7064, 6097, 8287, 3798, 4987, 9195, 5610, 433, 6254, 557, 3914, 8562, 2190, 6535, 4492, 4627, 5155, 9736, 2656, 8206, 3297, 9401, 8966, 9049, 2741, 2346, 8469, 5296, 9378, 2928, 9241, 7544, 3613, 9546, 5135]\n",
      "Total Money: 14159300.0\n",
      "Execution Time: 19.279924154281616\n",
      "Total Time Taken: 23.955108378954346\n"
     ]
    }
   ],
   "source": [
    "def bank_heist(data, time_limit):\n",
    "    # Initialize all variables\n",
    "    start_time = time.time()\n",
    "    current_time = 0\n",
    "    total_money = 0\n",
    "    current_location = np.array([0, 0])\n",
    "    banks_to_rob = []\n",
    "\n",
    "    # Run until time limit reached or all banks visited\n",
    "    while current_time <= time_limit and not data.empty:\n",
    "        \n",
    "        # Find most efficient bank to rob using money / time + travel time\n",
    "        data['distance'] = np.sqrt((data['x_coordinate'] - current_location[0]) ** 2 +\n",
    "                                   (data['y_coordinate'] - current_location[1]) ** 2)\n",
    "        data['dynamic_value_ratio'] = data['money'] / (data['time (hr)'] + data['distance'] / 30)\n",
    "\n",
    "        # Choose bank with highest dynamic value ratio\n",
    "        chosen_bank = data.loc[data['dynamic_value_ratio'].idxmax()]\n",
    "\n",
    "        # If we have time to get to and rob the bank, proceed and update all variables\n",
    "        if current_time + chosen_bank['time (hr)'] + chosen_bank['distance'] / 30 <= time_limit:\n",
    "            banks_to_rob.append(int(chosen_bank['id']))\n",
    "            current_time += chosen_bank['time (hr)'] + chosen_bank['distance'] / 30\n",
    "            total_money += chosen_bank['money']\n",
    "            current_location = np.array([chosen_bank['x_coordinate'], chosen_bank['y_coordinate']])\n",
    "\n",
    "        # Remove chosen bank from remaining data\n",
    "        data = data[data['id'] != chosen_bank['id']]\n",
    "\n",
    "    # When time is up or all banks visited, calculate execution time\n",
    "    end_time = time.time()\n",
    "    execution_time = end_time - start_time\n",
    "\n",
    "    # Save results (with bank IDs reversed since we started at the escape zone)\n",
    "    result = {\n",
    "        'Banks to Rob': banks_to_rob[::-1],\n",
    "        'Total Money': total_money,\n",
    "        'Execution Time': execution_time,\n",
    "        'Total Time Taken': current_time\n",
    "    }\n",
    "\n",
    "    return result\n",
    "\n",
    "# Run code ------------------------------\n",
    "# Use a copy of df to avoid modifying the original data\n",
    "heist_result = bank_heist(df.copy(), 24)\n",
    "for key, value in heist_result.items():\n",
    "    print(f\"{key}: {value}\")\n",
    "    \n",
    "    \n",
    "\n",
    "# Potential Impovements ---------\n",
    "# Segment code into smaller functions for modularity\n",
    "# Find ways to use more than 19 seconds to refine result"
   ]
  },
  {
   "cell_type": "markdown",
   "id": "c74e14fe",
   "metadata": {},
   "source": [
    "Explanation"
   ]
  },
  {
   "cell_type": "markdown",
   "id": "5100c015",
   "metadata": {},
   "source": [
    "After initializing the variables and checking base cases (time and banks), I find the most efficient bank to rob using a ratio of money over time (time to rob + travel time), which is updated after\n",
    "every robbery to reflect the travel time to each bank based on our current location (the coordinates \n",
    "of the previously robbed bank). Then if I have enough time, I rob the bank with the best ratio and\n",
    "update my variables to reflect the time used and the money stolen, as well as my current location.\n",
    "\n",
    "In order to simplify getting to the escape zone, I used (0,0) as my starting location and then\n",
    "reversed my list of robbed banks. This allowed me to optimize my code by not having to include\n",
    "and exception for the the last bank visited or calculate the distance from each bank to the\n",
    "escape zone."
   ]
  },
  {
   "cell_type": "markdown",
   "id": "d61fba7a",
   "metadata": {},
   "source": [
    "Results"
   ]
  },
  {
   "cell_type": "markdown",
   "id": "07d9726c",
   "metadata": {},
   "source": [
    "Total Money: 14,159,300.0 $"
   ]
  },
  {
   "cell_type": "markdown",
   "id": "ed179d36",
   "metadata": {},
   "source": [
    "Banks to Rob in Order: [4601, 3237, 2270, 3773, 5182, 2334, 2444, 8887, 1723, 5892, 5200, 2590, 5836, 5572,\n",
    "               4794, 3665, 4629, 6266, 5327, 1081, 2463, 6295, 5440, 8477, 9804, 5631, 5377, 5399,\n",
    "               1879, 8841, 1398, 5184, 4345, 9120, 757, 1860, 2344, 3025, 4293, 1844, 839, 4422,\n",
    "               3340, 3971, 1966, 359, 754, 6375, 7907, 670, 9469, 9275, 5381, 7769, 7625, 8909, 1397,\n",
    "               6156, 5126, 6987, 2458, 6478, 9290, 9928, 7649, 8169, 6281, 3136, 1599, 1193, 8849,\n",
    "               9908, 2729, 7764, 7701, 4036, 8503, 2827, 8407, 3919, 1997, 7531, 5356, 1447, 2028,\n",
    "               4362, 8829, 5474, 2643, 2521, 3239, 1676, 4742, 4983, 8288, 1976, 2243, 9779, 8125,\n",
    "               279, 6169, 2162, 8949, 6339, 3585, 4494, 5944, 2472, 70, 790, 1684, 6934, 488, 2226,\n",
    "               9880, 5563, 2639, 7494, 5971, 1455, 3605,8375, 5719, 613, 6759, 781, 4234, 3186, 6216,\n",
    "               4757, 4605, 7877, 7689, 8355, 1757, 8908, 7265, 5622, 6317, 4610, 5627, 7801, 2, 58,\n",
    "               1372, 951, 9881, 7595, 7772, 507, 5298, 6022, 2626, 9640, 8846, 8231, 5166, 7665, 3089,\n",
    "               4807, 9228, 524, 9583, 3005, 7583, 444, 865, 3466, 3803, 8022, 6712, 2037, 1914, 5295,\n",
    "               7343, 8703, 299, 4762, 6468, 3193, 8525, 7560, 5933, 487, 2331, 4499, 8690, 6528, 4287,\n",
    "               9653, 6104, 5562, 3516, 4906, 7087, 517, 7074, 7258, 6740, 3026, 4696, 4789, 8436,\n",
    "               7064, 6097, 8287, 3798, 4987, 9195, 5610, 433, 6254, 557, 3914, 8562, 2190, 6535, 4492,\n",
    "               4627, 5155, 9736, 2656, 8206, 3297, 9401, 8966, 9049, 2741, 2346, 8469, 5296, 9378,\n",
    "               2928, 9241, 7544, 3613, 9546, 5135]"
   ]
  },
  {
   "cell_type": "markdown",
   "id": "60af0cb2",
   "metadata": {},
   "source": [
    "Total Time Taken: 23.955108378954346 Hours"
   ]
  },
  {
   "cell_type": "markdown",
   "id": "8b4abb11",
   "metadata": {},
   "source": [
    "Execution Time: 19.279924154281616 Seconds"
   ]
  }
 ],
 "metadata": {
  "kernelspec": {
   "display_name": "Python 3 (ipykernel)",
   "language": "python",
   "name": "python3"
  },
  "language_info": {
   "codemirror_mode": {
    "name": "ipython",
    "version": 3
   },
   "file_extension": ".py",
   "mimetype": "text/x-python",
   "name": "python",
   "nbconvert_exporter": "python",
   "pygments_lexer": "ipython3",
   "version": "3.11.5"
  }
 },
 "nbformat": 4,
 "nbformat_minor": 5
}
